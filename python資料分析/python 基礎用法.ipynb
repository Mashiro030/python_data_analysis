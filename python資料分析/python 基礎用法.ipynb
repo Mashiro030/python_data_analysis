{
 "cells": [
  {
   "cell_type": "code",
   "execution_count": 2,
   "metadata": {},
   "outputs": [],
   "source": [
    "# 物件內省，顯示物件的資訊\n",
    "b=[1,2,3]\n",
    "b?\n",
    "\n",
    "# output:\n",
    "# Type:        list\n",
    "# String form: [1, 2, 3]\n",
    "# Length:      3\n",
    "# Docstring:  \n",
    "# Built-in mutable sequence.\n",
    "\n",
    "# If no argument is given, the constructor creates a new empty list.\n",
    "# The argument must be an iterable if specified.\n"
   ]
  },
  {
   "cell_type": "code",
   "execution_count": 9,
   "metadata": {},
   "outputs": [],
   "source": [
    "def add_number(a,b):\n",
    "    '''\n",
    "    Docstring:\n",
    "    add 2 numbers\n",
    "    '''\n",
    "    return a+b\n",
    "\n",
    "add_number?\n",
    "\n",
    "# output:\n",
    "# Signature: add_number(a, b)\n",
    "# Docstring:\n",
    "# Docstring:\n",
    "# add 2 numbers\n",
    "# File:      c:\\users\\10011\\desktop\\python資料分析\\<ipython-input-9-e9b2f533cab7>\n",
    "# Type:      function"
   ]
  },
  {
   "cell_type": "code",
   "execution_count": null,
   "metadata": {},
   "outputs": [],
   "source": [
    "# %load for_load.ipynb 把腳本從其他檔案load進來\n",
    "{\n",
    " \"cells\": [\n",
    "  {\n",
    "   \"cell_type\": \"code\",\n",
    "   \"execution_count\": 1,\n",
    "   \"metadata\": {},\n",
    "   \"outputs\": [],\n",
    "   \"source\": [\n",
    "    \"def test(x,y):\\n\",\n",
    "    \"    x=3\\n\",\n",
    "    \"    y=4\\n\",\n",
    "    \"    return x*y\"\n",
    "   ]\n",
    "  }\n",
    " ],\n",
    " \"metadata\": {\n",
    "  \"kernelspec\": {\n",
    "   \"display_name\": \"Python 3\",\n",
    "   \"language\": \"python\",\n",
    "   \"name\": \"python3\"\n",
    "  },\n",
    "  \"language_info\": {\n",
    "   \"codemirror_mode\": {\n",
    "    \"name\": \"ipython\",\n",
    "    \"version\": 3\n",
    "   },\n",
    "   \"file_extension\": \".py\",\n",
    "   \"mimetype\": \"text/x-python\",\n",
    "   \"name\": \"python\",\n",
    "   \"nbconvert_exporter\": \"python\",\n",
    "   \"pygments_lexer\": \"ipython3\",\n",
    "   \"version\": \"3.7.7\"\n",
    "  }\n",
    " },\n",
    " \"nbformat\": 4,\n",
    " \"nbformat_minor\": 4\n",
    "}\n"
   ]
  },
  {
   "cell_type": "code",
   "execution_count": 22,
   "metadata": {},
   "outputs": [],
   "source": [
    "# ;在一行中表示多個statement\n",
    "a=1;b=2;c=100\n",
    "def foo():\n",
    "    for i in range(3):\n",
    "        return a+b+c"
   ]
  },
  {
   "cell_type": "code",
   "execution_count": 25,
   "metadata": {},
   "outputs": [
    {
     "name": "stdout",
     "output_type": "stream",
     "text": [
      "[1, 2, 3]\n",
      "[1, 2, 3, 4]\n"
     ]
    }
   ],
   "source": [
    "# python 做資料複製時，將新的變數指向原本的資料，故資料為同一份\n",
    "x=[1,2,3]\n",
    "a=x\n",
    "print(a)\n",
    "x.append(4)\n",
    "print(a)"
   ]
  },
  {
   "cell_type": "code",
   "execution_count": 28,
   "metadata": {},
   "outputs": [
    {
     "data": {
      "text/plain": [
       "True"
      ]
     },
     "execution_count": 28,
     "metadata": {},
     "output_type": "execute_result"
    }
   ],
   "source": [
    "# isinstance檢查物件是否符合你要的型態\n",
    "a=100\n",
    "isinstance(a,(int,float))"
   ]
  },
  {
   "cell_type": "code",
   "execution_count": 60,
   "metadata": {},
   "outputs": [
    {
     "name": "stdout",
     "output_type": "stream",
     "text": [
      "(4, 5, 6)\n",
      "((1, 2, 3), (5, 9))\n",
      "('i am list',)\n",
      "('apple', [1, 2, 3, 4], True)\n",
      "(1, 2, 3, 4, 5, 6)\n",
      "(1, 2, 3, 1, 2, 3, 1, 2, 3)\n",
      "1\n",
      "(2, 3)\n",
      "1 2\n",
      "5 58 9\n"
     ]
    }
   ],
   "source": [
    "# tuple基本操作\n",
    "tup=4,5,6\n",
    "print(tup)\n",
    "\n",
    "nest_tup=(1,2,3),(5,9)\n",
    "print(nest_tup)\n",
    "\n",
    "l1=['i am list']\n",
    "print(tuple(l1))\n",
    "\n",
    "tup=('apple',[1,2,3],True)\n",
    "tup[1].append(4)\n",
    "# tup[0].append('orangre') 若tuple中的物件非mutable,則\n",
    "print(tup)\n",
    "\n",
    "tup1=1,2,3\n",
    "tup2=4,5,6\n",
    "tup3=tup1+tup2\n",
    "print(tup3)\n",
    "print(tup1*3)\n",
    "\n",
    "# 拆除tuple\n",
    "tup=1,2,3\n",
    "a,b,c=tup\n",
    "print(a)\n",
    "tup2=1,5,(2,3)\n",
    "a,b,c=tup2\n",
    "print(c)\n",
    "\n",
    "# 內建*rest，擷取tuple\n",
    "tup=1,2,3,5,58,9\n",
    "a,b,c,*rest=tup\n",
    "print(a,b)\n",
    "print(*rest)\n",
    "\n"
   ]
  },
  {
   "cell_type": "code",
   "execution_count": 83,
   "metadata": {},
   "outputs": [
    {
     "name": "stdout",
     "output_type": "stream",
     "text": [
      "[1, 2, 3, 4]\n",
      "[1, 2, 'foo', 3, 4]\n",
      "[1, 2, 'foo', 4]\n",
      "[1, 2, 4]\n",
      "[1, 2, 4, 77, 88, '不要9']\n",
      "[1, 2, 4, 77, 88, '不要9', 1, 2, 4, 77, 88, '不要9', 1, 2, 4, 77, 88, '不要9', 1, 2, 4, 77, 88, '不要9', 1, 2, 4, 77, 88, '不要9', 1, 2, 4, 77, 88, '不要9']\n",
      "['citys sweeping national security by Beijing last year.', 'makers', 'zen of amd']\n",
      "['makers', 'zen of amd', 'citys sweeping national security by Beijing last year.']\n",
      "[1, 2, 2, 2, 5, 66, 70, 89, 111, 112, 116]\n"
     ]
    }
   ],
   "source": [
    "# list基本操作\n",
    "\n",
    "# add element at tail\n",
    "l1=[1,2,3]\n",
    "l1.append(4)\n",
    "print(l1)\n",
    "\n",
    "# insert into anywhere in list\n",
    "l1.insert(2,'foo')\n",
    "print(l1)\n",
    "\n",
    "# delete element anywhere in list\n",
    "l1.pop(3)\n",
    "print(l1)\n",
    "\n",
    "l1.remove('foo')\n",
    "print(l1)\n",
    "\n",
    "# add many element at once\n",
    "# 在大型list中,若是使用 + 號拼接，則必須新建一個list把物件複製過去，在處理大型list時，應盡量使用extend\n",
    "l1.extend([77,88,'不要9'])\n",
    "print(l1)\n",
    "\n",
    "temp=[]\n",
    "for i in l1:\n",
    "    temp.extend(l1)\n",
    "print(temp)\n",
    "\n",
    "# sort (inplace)\n",
    "word=['Dozens','lawmakers','opposition the citys sweeping national security by Beijing last year.']\n",
    "word=['zen of amd','makers','citys sweeping national security by Beijing last year.']\n",
    "word.sort()\n",
    "print(word)\n",
    "word.sort(key=len)\n",
    "print(word)\n",
    "\n",
    "#若list以按照順序排好，則可使用內建的模組做二元搜尋/插入\n",
    "import bisect\n",
    "sorted_l=[1,2,2,2,5,66,89,111,112,116]\n",
    "bisect.bisect(sorted_l,66) # 尋找應插入的位置 66,right place,89\n",
    "bisect.insort(sorted_l,70) # 插入\n",
    "print(sorted_l)\n",
    "\n",
    "\n"
   ]
  },
  {
   "cell_type": "code",
   "execution_count": null,
   "metadata": {},
   "outputs": [],
   "source": []
  },
  {
   "cell_type": "code",
   "execution_count": null,
   "metadata": {},
   "outputs": [],
   "source": []
  },
  {
   "cell_type": "code",
   "execution_count": null,
   "metadata": {},
   "outputs": [],
   "source": []
  },
  {
   "cell_type": "code",
   "execution_count": null,
   "metadata": {},
   "outputs": [],
   "source": []
  }
 ],
 "metadata": {
  "kernelspec": {
   "display_name": "Python 3",
   "language": "python",
   "name": "python3"
  },
  "language_info": {
   "codemirror_mode": {
    "name": "ipython",
    "version": 3
   },
   "file_extension": ".py",
   "mimetype": "text/x-python",
   "name": "python",
   "nbconvert_exporter": "python",
   "pygments_lexer": "ipython3",
   "version": "3.7.7"
  },
  "widgets": {
   "application/vnd.jupyter.widget-state+json": {
    "state": {},
    "version_major": 2,
    "version_minor": 0
   }
  }
 },
 "nbformat": 4,
 "nbformat_minor": 4
}
