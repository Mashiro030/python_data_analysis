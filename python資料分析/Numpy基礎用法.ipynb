{
 "cells": [
  {
   "cell_type": "code",
   "execution_count": 3,
   "metadata": {},
   "outputs": [],
   "source": [
    "import numpy as np"
   ]
  },
  {
   "cell_type": "code",
   "execution_count": 30,
   "metadata": {},
   "outputs": [
    {
     "name": "stdout",
     "output_type": "stream",
     "text": [
      "[[-0.30031936 -1.25818258 -1.44258551]\n",
      " [-1.11912974 -0.77122436 -0.48218948]]\n",
      "[0 1 2 3 4 5 6 7 8 9]\n",
      "int32\n",
      "[1 2 3 4]\n",
      "float64\n",
      "[1. 2. 3. 4.]\n",
      "[b'1.6' b'3.3' b'42']\n"
     ]
    }
   ],
   "source": [
    "#\n",
    "data=np.random.randn(2,3)\n",
    "print(data)\n",
    "\n",
    "# equql to range\n",
    "data=np.arange(10)\n",
    "print(data)\n",
    "\n",
    "# astype,變更資料型態\n",
    "arr=np.array([1,2,3,4])\n",
    "print(arr.dtype)\n",
    "print(arr)\n",
    "\n",
    "float_arr=arr.astype('float64')\n",
    "print(float_arr.dtype)\n",
    "print(float_arr)\n",
    "\n",
    "# list也可以轉換為數值\n",
    "str_arr=np.array(['1.6','3.3','42'],dtype=np.string_)\n",
    "str_arr.astype(float)\n",
    "print(str_arr)\n"
   ]
  },
  {
   "cell_type": "code",
   "execution_count": 47,
   "metadata": {},
   "outputs": [
    {
     "name": "stdout",
     "output_type": "stream",
     "text": [
      "[[[ 1  2  3]\n",
      "  [ 4  5  6]]\n",
      "\n",
      " [[ 7  8  9]\n",
      "  [10 11 12]]]\n",
      "(2, 2, 3)\n",
      "[[1 2 3]\n",
      " [4 5 6]]\n",
      "5\n",
      "[[[100 100 100]\n",
      "  [  4   5   6]]\n",
      "\n",
      " [[  7   8   9]\n",
      "  [ 10  11  12]]]\n",
      "[[[ 1  2  3]\n",
      "  [ 4  5  6]]\n",
      "\n",
      " [[ 7  8  9]\n",
      "  [10 11 12]]]\n"
     ]
    }
   ],
   "source": [
    "# 多維度陣列\n",
    "arr3d=np.array([[[1,2,3],[4,5,6]],[[7,8,9],[10,11,12]]])\n",
    "print(arr3d)\n",
    "print(arr3d.shape)\n",
    "print(arr3d[0])\n",
    "print(arr3d[0][1][1])\n",
    "\n",
    "backup=arr3d.copy()\n",
    "arr3d[0][0]=100\n",
    "print(arr3d)\n",
    "\n",
    "# 還原\n",
    "arr3d=backup\n",
    "print(arr3d)"
   ]
  },
  {
   "cell_type": "code",
   "execution_count": null,
   "metadata": {},
   "outputs": [],
   "source": []
  },
  {
   "cell_type": "code",
   "execution_count": null,
   "metadata": {},
   "outputs": [],
   "source": []
  },
  {
   "cell_type": "code",
   "execution_count": null,
   "metadata": {},
   "outputs": [],
   "source": []
  },
  {
   "cell_type": "code",
   "execution_count": null,
   "metadata": {},
   "outputs": [],
   "source": []
  },
  {
   "cell_type": "code",
   "execution_count": null,
   "metadata": {},
   "outputs": [],
   "source": []
  },
  {
   "cell_type": "code",
   "execution_count": null,
   "metadata": {},
   "outputs": [],
   "source": []
  },
  {
   "cell_type": "code",
   "execution_count": null,
   "metadata": {},
   "outputs": [],
   "source": []
  },
  {
   "cell_type": "code",
   "execution_count": null,
   "metadata": {},
   "outputs": [],
   "source": []
  },
  {
   "cell_type": "code",
   "execution_count": null,
   "metadata": {},
   "outputs": [],
   "source": []
  },
  {
   "cell_type": "code",
   "execution_count": null,
   "metadata": {},
   "outputs": [],
   "source": []
  },
  {
   "cell_type": "code",
   "execution_count": null,
   "metadata": {},
   "outputs": [],
   "source": []
  },
  {
   "cell_type": "code",
   "execution_count": null,
   "metadata": {},
   "outputs": [],
   "source": []
  }
 ],
 "metadata": {
  "kernelspec": {
   "display_name": "Python 3",
   "language": "python",
   "name": "python3"
  },
  "language_info": {
   "codemirror_mode": {
    "name": "ipython",
    "version": 3
   },
   "file_extension": ".py",
   "mimetype": "text/x-python",
   "name": "python",
   "nbconvert_exporter": "python",
   "pygments_lexer": "ipython3",
   "version": "3.7.3"
  }
 },
 "nbformat": 4,
 "nbformat_minor": 2
}
