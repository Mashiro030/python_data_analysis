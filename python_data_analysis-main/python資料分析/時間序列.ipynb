{
 "cells": [
  {
   "cell_type": "code",
   "execution_count": 1,
   "metadata": {},
   "outputs": [],
   "source": [
    "import pandas as pd\n",
    "import numpy as np"
   ]
  },
  {
   "cell_type": "code",
   "execution_count": null,
   "metadata": {},
   "outputs": [],
   "source": [
    "# 日期、時間、日期型態\n",
    "from datetime import datetime\n",
    "now=datetime.now()\n",
    "print(now)\n",
    "print(now.year,now.month,now.day)"
   ]
  },
  {
   "cell_type": "code",
   "execution_count": 12,
   "metadata": {},
   "outputs": [
    {
     "name": "stdout",
     "output_type": "stream",
     "text": [
      "604 days, 15:45:00\n",
      "604\n",
      "56700\n"
     ]
    }
   ],
   "source": [
    "# timedelta,兩個時間物件的時間差\n",
    "diff=datetime(2011,1,1)-datetime(2009,5,6,8,15)\n",
    "print(diff)\n",
    "print(diff.days)\n",
    "print(diff.seconds)"
   ]
  },
  {
   "cell_type": "code",
   "execution_count": 26,
   "metadata": {},
   "outputs": [
    {
     "data": {
      "text/plain": [
       "datetime.datetime(2020, 2, 10, 0, 0)"
      ]
     },
     "execution_count": 26,
     "metadata": {},
     "output_type": "execute_result"
    }
   ],
   "source": [
    "# datetime物件可以加減多個timedelta\n",
    "from datetime import timedelta\n",
    "start=datetime(2020,1,1)\n",
    "start+2*timedelta(days=20)"
   ]
  },
  {
   "cell_type": "code",
   "execution_count": 35,
   "metadata": {},
   "outputs": [
    {
     "name": "stdout",
     "output_type": "stream",
     "text": [
      "2020-02-22 00:00:00\n",
      "2020-02-22\n"
     ]
    }
   ],
   "source": [
    "# 時間日期轉換為字串\n",
    "stamp=datetime(2020,2,22)\n",
    "print(str(stamp))\n",
    "print(stamp.strftime('%Y-%m-%d'))"
   ]
  },
  {
   "cell_type": "code",
   "execution_count": 41,
   "metadata": {},
   "outputs": [
    {
     "name": "stdout",
     "output_type": "stream",
     "text": [
      "2011-05-30 00:00:00\n",
      "2000-12-12 00:00:00\n",
      "2006-07-08 00:00:00\n"
     ]
    }
   ],
   "source": [
    "# 字串轉換為時間日期\n",
    "value='2011-05-30'\n",
    "print(datetime.strptime(value,'%Y-%m-%d'))\n",
    "\n",
    "date_str=['2000/12/12','2006/7/8']\n",
    "for i in date_str:\n",
    "    print(datetime.strptime(i,'%Y/%m/%d'))\n"
   ]
  },
  {
   "cell_type": "code",
   "execution_count": 50,
   "metadata": {},
   "outputs": [
    {
     "name": "stdout",
     "output_type": "stream",
     "text": [
      "2011-10-05 00:00:00\n",
      "2000-01-31 06:39:00\n",
      "2001-12-06 00:00:00\n"
     ]
    }
   ],
   "source": [
    "# pandas有parse模組支援\n",
    "from dateutil.parser import parse\n",
    "print(parse('2011-10-05'))\n",
    "print(parse('JAN 31 2000 06:39 AM'))\n",
    "print(parse('6/12/2001',dayfirst=True))"
   ]
  },
  {
   "cell_type": "code",
   "execution_count": 53,
   "metadata": {},
   "outputs": [
    {
     "name": "stdout",
     "output_type": "stream",
     "text": [
      "DatetimeIndex(['2008-01-06 00:00:00', '2099-01-31 06:39:00'], dtype='datetime64[ns]', freq=None)\n"
     ]
    }
   ],
   "source": [
    "datestrs=['2008-01-06 00:00:00','2099-01-31 06:39:00']\n",
    "print(pd.to_datetime(datestrs))"
   ]
  },
  {
   "cell_type": "code",
   "execution_count": 56,
   "metadata": {},
   "outputs": [
    {
     "name": "stdout",
     "output_type": "stream",
     "text": [
      "DatetimeIndex(['2008-01-06 00:00:00', '2099-01-31 06:39:00', 'NaT'], dtype='datetime64[ns]', freq=None)\n",
      "[False False  True]\n"
     ]
    }
   ],
   "source": [
    "# 可處理遺失值\n",
    "idx=pd.to_datetime(datestrs+[None])\n",
    "print(idx)\n",
    "print(pd.isnull(idx))"
   ]
  },
  {
   "cell_type": "code",
   "execution_count": 59,
   "metadata": {},
   "outputs": [
    {
     "name": "stdout",
     "output_type": "stream",
     "text": [
      "2011-01-02    1.362161\n",
      "2000-05-06    0.485790\n",
      "2025-06-09   -2.315184\n",
      "1995-11-26    1.085771\n",
      "2016-09-07    1.307814\n",
      "1998-07-09    1.154533\n",
      "dtype: float64\n",
      "DatetimeIndex(['2011-01-02', '2000-05-06', '2025-06-09', '1995-11-26',\n",
      "               '2016-09-07', '1998-07-09'],\n",
      "              dtype='datetime64[ns]', freq=None)\n"
     ]
    }
   ],
   "source": [
    "# 時間序列基本概念\n",
    "dates=[datetime(2011,1,2),datetime(2000,5,6),\n",
    "       datetime(2025,6,9),datetime(1995,11,26),datetime(2016,9,7),datetime(1998,7,9)]\n",
    "ts=pd.Series(np.random.randn(6),index=dates)\n",
    "print(ts)\n",
    "print(ts.index)"
   ]
  },
  {
   "cell_type": "code",
   "execution_count": 71,
   "metadata": {},
   "outputs": [
    {
     "name": "stdout",
     "output_type": "stream",
     "text": [
      "1995-11-26    1.085771\n",
      "dtype: float64\n",
      "-2.3151839872155504\n",
      "2021-05-01    0.014486\n",
      "2021-05-02    0.797160\n",
      "2021-05-03   -0.076489\n",
      "2021-05-04    2.398721\n",
      "2021-05-05    0.725495\n",
      "Freq: D, dtype: float64\n",
      "-0.02481097230217223\n"
     ]
    }
   ],
   "source": [
    "# 用日期做索引\n",
    "print(ts['1995-11-26'])\n",
    "print(ts[ts.index[2]])\n",
    "long_date=pd.Series(np.random.randn(1000),index=pd.date_range('2020/1/1',periods=1000))\n",
    "print(long_date['2021/5'].head()) # 指定年/月\n",
    "print(long_date[datetime(2022,7,7)]) # datetime物件做切片"
   ]
  },
  {
   "cell_type": "code",
   "execution_count": 80,
   "metadata": {},
   "outputs": [
    {
     "name": "stdout",
     "output_type": "stream",
     "text": [
      "2020-01-01    1.427149\n",
      "2020-01-02    0.094997\n",
      "2020-01-03   -0.319679\n",
      "2020-01-04    0.318408\n",
      "2020-01-05    1.280007\n",
      "2020-01-06   -1.034277\n",
      "2020-01-07   -1.119968\n",
      "2020-01-08    0.793222\n",
      "2020-01-09    1.118767\n",
      "2020-01-10   -1.357256\n",
      "Freq: D, dtype: float64\n",
      "2020-01-01    1.427149\n",
      "2020-01-02    0.094997\n",
      "2020-01-03   -0.319679\n",
      "2020-01-04    0.318408\n",
      "2020-01-05    1.280007\n",
      "2020-01-06   -1.034277\n",
      "2020-01-07   -1.119968\n",
      "2020-01-08    0.793222\n",
      "2020-01-09    1.118767\n",
      "2020-01-10   -1.357256\n",
      "2020-01-11    0.222552\n",
      "2020-01-12   -1.486445\n",
      "2020-01-13    0.452849\n",
      "2020-01-14   -1.599587\n",
      "2020-01-15   -0.344412\n",
      "Freq: D, dtype: float64\n"
     ]
    }
   ],
   "source": [
    "print(long_date['2020/1/1':'2020/1/10']) # 指定某段期間\n",
    "print(long_date.truncate(after='2020/1/15'))"
   ]
  },
  {
   "cell_type": "code",
   "execution_count": 84,
   "metadata": {},
   "outputs": [
    {
     "data": {
      "text/html": [
       "<div>\n",
       "<style scoped>\n",
       "    .dataframe tbody tr th:only-of-type {\n",
       "        vertical-align: middle;\n",
       "    }\n",
       "\n",
       "    .dataframe tbody tr th {\n",
       "        vertical-align: top;\n",
       "    }\n",
       "\n",
       "    .dataframe thead th {\n",
       "        text-align: right;\n",
       "    }\n",
       "</style>\n",
       "<table border=\"1\" class=\"dataframe\">\n",
       "  <thead>\n",
       "    <tr style=\"text-align: right;\">\n",
       "      <th></th>\n",
       "      <th>texas</th>\n",
       "      <th>ohio</th>\n",
       "      <th>new york</th>\n",
       "      <th>las vagas</th>\n",
       "    </tr>\n",
       "  </thead>\n",
       "  <tbody>\n",
       "    <tr>\n",
       "      <th>2020-02-01</th>\n",
       "      <td>1.589163</td>\n",
       "      <td>0.641411</td>\n",
       "      <td>0.688988</td>\n",
       "      <td>-0.281520</td>\n",
       "    </tr>\n",
       "    <tr>\n",
       "      <th>2020-02-02</th>\n",
       "      <td>-1.042625</td>\n",
       "      <td>-0.485663</td>\n",
       "      <td>-1.722982</td>\n",
       "      <td>0.169092</td>\n",
       "    </tr>\n",
       "    <tr>\n",
       "      <th>2020-02-03</th>\n",
       "      <td>-1.940773</td>\n",
       "      <td>1.220615</td>\n",
       "      <td>-0.185927</td>\n",
       "      <td>1.121927</td>\n",
       "    </tr>\n",
       "    <tr>\n",
       "      <th>2020-02-04</th>\n",
       "      <td>0.168946</td>\n",
       "      <td>0.789616</td>\n",
       "      <td>0.709734</td>\n",
       "      <td>-2.030114</td>\n",
       "    </tr>\n",
       "    <tr>\n",
       "      <th>2020-02-05</th>\n",
       "      <td>-0.475302</td>\n",
       "      <td>-0.513982</td>\n",
       "      <td>-1.033410</td>\n",
       "      <td>-0.357759</td>\n",
       "    </tr>\n",
       "  </tbody>\n",
       "</table>\n",
       "</div>"
      ],
      "text/plain": [
       "               texas      ohio  new york  las vagas\n",
       "2020-02-01  1.589163  0.641411  0.688988  -0.281520\n",
       "2020-02-02 -1.042625 -0.485663 -1.722982   0.169092\n",
       "2020-02-03 -1.940773  1.220615 -0.185927   1.121927\n",
       "2020-02-04  0.168946  0.789616  0.709734  -2.030114\n",
       "2020-02-05 -0.475302 -0.513982 -1.033410  -0.357759"
      ]
     },
     "execution_count": 84,
     "metadata": {},
     "output_type": "execute_result"
    }
   ],
   "source": [
    "# 建立時間類型的dataframe\n",
    "dates=pd.date_range('2020/1/1',periods=100)\n",
    "date_df=pd.DataFrame(np.random.randn(100,4),index=dates,columns=['texas','ohio','new york','las vagas'])\n",
    "date_df.loc['2020/2'].head()"
   ]
  },
  {
   "cell_type": "code",
   "execution_count": 95,
   "metadata": {},
   "outputs": [
    {
     "name": "stdout",
     "output_type": "stream",
     "text": [
      "2020-02-01   -0.523417\n",
      "2020-02-01   -0.765649\n",
      "2020-02-03    2.080269\n",
      "2020-02-03    0.087681\n",
      "2020-02-03   -1.510797\n",
      "dtype: float64\n",
      "False\n",
      "2020-02-01   -0.523417\n",
      "2020-02-01   -0.765649\n",
      "dtype: float64\n"
     ]
    }
   ],
   "source": [
    "# 含有重複索引的時間序列\n",
    "dates=pd.DatetimeIndex(['2020-02-01','2020-02-01','2020-02-03','2020-02-03','2020-02-03'])\n",
    "dup=pd.Series(np.random.randn(5),index=dates)\n",
    "print(dup)\n",
    "print(dup.index.is_unique)\n",
    "print(dup['2020/02/01']) # index重複\n"
   ]
  },
  {
   "cell_type": "code",
   "execution_count": 100,
   "metadata": {},
   "outputs": [
    {
     "name": "stdout",
     "output_type": "stream",
     "text": [
      "DatetimeIndex(['2020-01-31', '2020-02-28', '2020-03-31', '2020-04-30',\n",
      "               '2020-05-29'],\n",
      "              dtype='datetime64[ns]', freq='BM')\n",
      "DatetimeIndex(['2020-01-01 00:00:00', '2020-01-01 01:30:00',\n",
      "               '2020-01-01 03:00:00', '2020-01-01 04:30:00',\n",
      "               '2020-01-01 06:00:00', '2020-01-01 07:30:00',\n",
      "               '2020-01-01 09:00:00', '2020-01-01 10:30:00',\n",
      "               '2020-01-01 12:00:00', '2020-01-01 13:30:00'],\n",
      "              dtype='datetime64[ns]', freq='90T')\n",
      "DatetimeIndex(['2020-05-06', '2020-05-07', '2020-05-08', '2020-05-09',\n",
      "               '2020-05-10'],\n",
      "              dtype='datetime64[ns]', freq='D')\n"
     ]
    }
   ],
   "source": [
    "# 日期區間、頻率、位移\n",
    "print(pd.date_range('2020/1/1','2020/6/1',freq='BM')) # 每個月底\n",
    "print(pd.date_range('2020/1/1',periods=10,freq='1h30min')) # 用文字敘述\n",
    "print(pd.date_range('2020/5/6 12:35:22',periods=5,normalize=True)) # 以午夜時間為基準"
   ]
  },
  {
   "cell_type": "code",
   "execution_count": 114,
   "metadata": {},
   "outputs": [
    {
     "data": {
      "text/plain": [
       "[Timestamp('2012-01-06 00:00:00', freq='WOM-1FRI'),\n",
       " Timestamp('2012-02-03 00:00:00', freq='WOM-1FRI'),\n",
       " Timestamp('2012-03-02 00:00:00', freq='WOM-1FRI'),\n",
       " Timestamp('2012-04-06 00:00:00', freq='WOM-1FRI'),\n",
       " Timestamp('2012-05-04 00:00:00', freq='WOM-1FRI'),\n",
       " Timestamp('2012-06-01 00:00:00', freq='WOM-1FRI'),\n",
       " Timestamp('2012-07-06 00:00:00', freq='WOM-1FRI'),\n",
       " Timestamp('2012-08-03 00:00:00', freq='WOM-1FRI'),\n",
       " Timestamp('2012-09-07 00:00:00', freq='WOM-1FRI'),\n",
       " Timestamp('2012-10-05 00:00:00', freq='WOM-1FRI'),\n",
       " Timestamp('2012-11-02 00:00:00', freq='WOM-1FRI'),\n",
       " Timestamp('2012-12-07 00:00:00', freq='WOM-1FRI')]"
      ]
     },
     "execution_count": 114,
     "metadata": {},
     "output_type": "execute_result"
    }
   ],
   "source": [
    "# 每月的第幾周的星期幾\n",
    "every_week=pd.date_range('2012','2013',freq='WOM-1FRI')\n",
    "list(every_week)"
   ]
  },
  {
   "cell_type": "code",
   "execution_count": 125,
   "metadata": {},
   "outputs": [
    {
     "name": "stdout",
     "output_type": "stream",
     "text": [
      "2011-01-31    1.913508\n",
      "2011-02-28   -1.551110\n",
      "2011-03-31    1.319297\n",
      "2011-04-30    1.892692\n",
      "2011-05-31   -0.669362\n",
      "Freq: M, dtype: float64\n",
      "2011-01-31         NaN\n",
      "2011-02-28         NaN\n",
      "2011-03-31    1.913508\n",
      "2011-04-30   -1.551110\n",
      "2011-05-31    1.319297\n",
      "Freq: M, dtype: float64\n",
      "2011-01-31    1.319297\n",
      "2011-02-28    1.892692\n",
      "2011-03-31   -0.669362\n",
      "2011-04-30         NaN\n",
      "2011-05-31         NaN\n",
      "Freq: M, dtype: float64\n"
     ]
    }
   ],
   "source": [
    "# 移動開頭或結尾資料，但不會動到時間索引\n",
    "ts=pd.Series(np.random.randn(5),index=pd.date_range('2011/1/1',periods=5,freq='M'))\n",
    "print(ts)\n",
    "print(ts.shift(2)) # 往下移兩個\n",
    "print(ts.shift(-2)) # 往上移兩個"
   ]
  },
  {
   "cell_type": "code",
   "execution_count": 128,
   "metadata": {},
   "outputs": [
    {
     "data": {
      "text/plain": [
       "2011-01-31         NaN\n",
       "2011-02-28   -0.810610\n",
       "2011-03-31   -0.850550\n",
       "2011-04-30    1.434622\n",
       "2011-05-31   -0.353656\n",
       "Freq: M, dtype: float64"
      ]
     },
     "execution_count": 128,
     "metadata": {},
     "output_type": "execute_result"
    }
   ],
   "source": [
    "# shift常用來計算時間序列的差值\n",
    "ts/ts.shift(1)"
   ]
  },
  {
   "cell_type": "code",
   "execution_count": 134,
   "metadata": {},
   "outputs": [
    {
     "name": "stdout",
     "output_type": "stream",
     "text": [
      "2021-02-21 00:00:00\n",
      "2021-02-28 00:00:00\n",
      "2021-03-31 00:00:00\n"
     ]
    }
   ],
   "source": [
    "# 用位移量移動日期\n",
    "from pandas.tseries.offsets import Day,MonthEnd\n",
    "\n",
    "now=datetime(2021,2,18)\n",
    "print(now+3*Day()) # 加三天\n",
    "print(now+MonthEnd()) # 跳至月底\n",
    "print(now+MonthEnd(2)) # 下個月底"
   ]
  },
  {
   "cell_type": "code",
   "execution_count": 137,
   "metadata": {},
   "outputs": [
    {
     "name": "stdout",
     "output_type": "stream",
     "text": [
      "2021-02-28 00:00:00\n",
      "2021-01-31 00:00:00\n"
     ]
    }
   ],
   "source": [
    "# rollback/foward\n",
    "offset=MonthEnd()\n",
    "print(offset.rollforward(now))\n",
    "print(offset.rollback(now))"
   ]
  },
  {
   "cell_type": "code",
   "execution_count": 143,
   "metadata": {},
   "outputs": [
    {
     "data": {
      "text/plain": [
       "2020-03-01   -0.479724\n",
       "2020-03-05    0.646933\n",
       "2020-03-09   -0.446159\n",
       "2020-03-13   -0.622021\n",
       "2020-03-17   -0.502852\n",
       "2020-03-21    0.774754\n",
       "2020-03-25   -0.261845\n",
       "2020-03-29   -0.152735\n",
       "2020-04-02   -1.435719\n",
       "2020-04-06    0.190662\n",
       "2020-04-10    0.316771\n",
       "2020-04-14   -0.166804\n",
       "2020-04-18   -0.663074\n",
       "2020-04-22    0.299512\n",
       "2020-04-26    0.541749\n",
       "2020-04-30    0.102986\n",
       "2020-05-04   -1.518468\n",
       "2020-05-08   -0.425089\n",
       "2020-05-12    0.119566\n",
       "2020-05-16   -1.335555\n",
       "Freq: 4D, dtype: float64"
      ]
     },
     "execution_count": 143,
     "metadata": {},
     "output_type": "execute_result"
    }
   ],
   "source": [
    "# 搭配groupby\n",
    "ts=pd.Series(np.random.randn(20),index=pd.date_range('2020/3/1',periods=20,freq='4D'))\n",
    "ts"
   ]
  },
  {
   "cell_type": "code",
   "execution_count": 152,
   "metadata": {},
   "outputs": [
    {
     "data": {
      "text/plain": [
       "2020-03-31   -0.130456\n",
       "2020-04-30   -0.101740\n",
       "2020-05-31   -0.789886\n",
       "dtype: float64"
      ]
     },
     "execution_count": 152,
     "metadata": {},
     "output_type": "execute_result"
    }
   ],
   "source": [
    "ts.groupby(offset.rollforward).mean()"
   ]
  },
  {
   "cell_type": "code",
   "execution_count": 159,
   "metadata": {},
   "outputs": [
    {
     "name": "stdout",
     "output_type": "stream",
     "text": [
      "['US/Eastern', 'US/Hawaii', 'US/Mountain', 'US/Pacific', 'UTC']\n",
      "America/New_York\n"
     ]
    }
   ],
   "source": [
    "# 時區\n",
    "import pytz\n",
    "\n",
    "print(pytz.common_timezones[-5:])\n",
    "tz=pytz.timezone('America/New_York')\n",
    "print(tz)"
   ]
  },
  {
   "cell_type": "code",
   "execution_count": 163,
   "metadata": {},
   "outputs": [
    {
     "name": "stdout",
     "output_type": "stream",
     "text": [
      "UTC\n"
     ]
    }
   ],
   "source": [
    "# 時區本地化及轉換\n",
    "rng=pd.date_range('2012/3/9',periods=9,freq='D',tz='UTC')\n",
    "ts=pd.Series(np.random.randn(9),index=rng)\n",
    "print(ts.index.tz)\n"
   ]
  },
  {
   "cell_type": "code",
   "execution_count": 170,
   "metadata": {},
   "outputs": [
    {
     "name": "stdout",
     "output_type": "stream",
     "text": [
      "DatetimeIndex(['2012-03-09 09:30:56+00:00', '2012-03-10 09:30:56+00:00',\n",
      "               '2012-03-11 09:30:56+00:00', '2012-03-12 09:30:56+00:00',\n",
      "               '2012-03-13 09:30:56+00:00', '2012-03-14 09:30:56+00:00',\n",
      "               '2012-03-15 09:30:56+00:00', '2012-03-16 09:30:56+00:00',\n",
      "               '2012-03-17 09:30:56+00:00'],\n",
      "              dtype='datetime64[ns, UTC]', freq='D')\n",
      "2012-03-09 04:30:56-05:00    0.010572\n",
      "2012-03-10 04:30:56-05:00    0.467043\n",
      "2012-03-11 05:30:56-04:00   -0.916760\n",
      "2012-03-12 05:30:56-04:00   -0.925187\n",
      "2012-03-13 05:30:56-04:00    0.560925\n",
      "2012-03-14 05:30:56-04:00   -0.615832\n",
      "2012-03-15 05:30:56-04:00    0.009786\n",
      "2012-03-16 05:30:56-04:00   -0.120214\n",
      "2012-03-17 05:30:56-04:00   -0.055324\n",
      "Freq: D, dtype: float64\n"
     ]
    }
   ],
   "source": [
    "# tz_localize()\n",
    "rng=pd.date_range('2012/3/9 09:30:56',periods=9,freq='D')\n",
    "ts=pd.Series(np.random.randn(9),index=rng)\n",
    "ts_utc=ts.tz_localize('UTC')\n",
    "print(ts_utc.index)\n",
    "print(ts_utc.tz_convert('America/New_York'))"
   ]
  },
  {
   "cell_type": "code",
   "execution_count": 171,
   "metadata": {},
   "outputs": [
    {
     "name": "stdout",
     "output_type": "stream",
     "text": [
      "2012-03-09 14:30:56+00:00   -0.125891\n",
      "2012-03-10 14:30:56+00:00    0.370398\n",
      "2012-03-11 13:30:56+00:00    0.721977\n",
      "2012-03-12 13:30:56+00:00   -1.482520\n",
      "2012-03-13 13:30:56+00:00   -0.140014\n",
      "2012-03-14 13:30:56+00:00    1.057360\n",
      "2012-03-15 13:30:56+00:00   -0.277436\n",
      "2012-03-16 13:30:56+00:00    0.348207\n",
      "2012-03-17 13:30:56+00:00    0.064467\n",
      "Freq: D, dtype: float64\n"
     ]
    }
   ],
   "source": [
    "# 美東轉UTC\n",
    "rng=pd.date_range('2012/3/9 09:30:56',periods=9,freq='D')\n",
    "ts=pd.Series(np.random.randn(9),index=rng)\n",
    "tz_eastern=ts.tz_localize('America/New_York')\n",
    "print(tz_eastern.tz_convert('UTC'))"
   ]
  },
  {
   "cell_type": "code",
   "execution_count": 174,
   "metadata": {},
   "outputs": [
    {
     "data": {
      "text/plain": [
       "Timestamp('2011-03-11 23:00:00-0500', tz='America/New_York')"
      ]
     },
     "execution_count": 174,
     "metadata": {},
     "output_type": "execute_result"
    }
   ],
   "source": [
    "# 含時區的timestamp物件一樣可以轉換 \n",
    "stamp=pd.Timestamp('2011/3/12 04:00')\n",
    "stamp_utc=stamp.tz_localize('utc')\n",
    "stamp_utc.tz_convert('America/New_York')\n"
   ]
  },
  {
   "cell_type": "code",
   "execution_count": 175,
   "metadata": {},
   "outputs": [
    {
     "data": {
      "text/plain": [
       "1299902400000000000"
      ]
     },
     "execution_count": 175,
     "metadata": {},
     "output_type": "execute_result"
    }
   ],
   "source": [
    "# timestamp中的value不會隨時區改變而變化(自1970.1.1算起，單位為奈秒)\n",
    "stamp_utc.value"
   ]
  },
  {
   "cell_type": "code",
   "execution_count": null,
   "metadata": {},
   "outputs": [],
   "source": [
    "# timestamp offset待補....\n"
   ]
  },
  {
   "cell_type": "code",
   "execution_count": 178,
   "metadata": {},
   "outputs": [
    {
     "name": "stdout",
     "output_type": "stream",
     "text": [
      "2012-07-03 09:30:00   -0.419235\n",
      "2012-07-04 09:30:00   -0.589970\n",
      "2012-07-05 09:30:00   -0.179071\n",
      "2012-07-06 09:30:00    0.361792\n",
      "2012-07-09 09:30:00    0.663046\n",
      "2012-07-10 09:30:00   -1.270531\n",
      "2012-07-11 09:30:00   -0.013836\n",
      "2012-07-12 09:30:00   -1.569096\n",
      "2012-07-13 09:30:00   -1.542314\n",
      "2012-07-16 09:30:00   -1.063663\n",
      "Freq: B, dtype: float64\n"
     ]
    }
   ],
   "source": [
    "#　不同時區合併會自動轉為UTC\n",
    "rng=pd.date_range('2012/7/3 09:30',periods=10,freq='B')\n",
    "ts=pd.Series(np.random.randn(10),index=rng)\n",
    "print(ts)"
   ]
  },
  {
   "cell_type": "code",
   "execution_count": 189,
   "metadata": {},
   "outputs": [
    {
     "name": "stdout",
     "output_type": "stream",
     "text": [
      "2012-07-03 09:30:00+01:00   -0.419235\n",
      "2012-07-04 09:30:00+01:00   -0.589970\n",
      "2012-07-05 09:30:00+01:00   -0.179071\n",
      "2012-07-06 09:30:00+01:00    0.361792\n",
      "2012-07-09 09:30:00+01:00    0.663046\n",
      "2012-07-10 09:30:00+01:00   -1.270531\n",
      "2012-07-11 09:30:00+01:00   -0.013836\n",
      "Freq: B, dtype: float64\n",
      "2012-07-05 12:30:00+04:00   -0.179071\n",
      "2012-07-06 12:30:00+04:00    0.361792\n",
      "2012-07-09 12:30:00+04:00    0.663046\n",
      "2012-07-10 12:30:00+04:00   -1.270531\n",
      "2012-07-11 12:30:00+04:00   -0.013836\n",
      "Freq: B, dtype: float64\n"
     ]
    },
    {
     "data": {
      "text/plain": [
       "DatetimeIndex(['2012-07-03 08:30:00+00:00', '2012-07-04 08:30:00+00:00',\n",
       "               '2012-07-05 08:30:00+00:00', '2012-07-06 08:30:00+00:00',\n",
       "               '2012-07-09 08:30:00+00:00', '2012-07-10 08:30:00+00:00',\n",
       "               '2012-07-11 08:30:00+00:00'],\n",
       "              dtype='datetime64[ns, UTC]', freq='B')"
      ]
     },
     "execution_count": 189,
     "metadata": {},
     "output_type": "execute_result"
    }
   ],
   "source": [
    "ts1=ts[:7].tz_localize('Europe/London')\n",
    "ts2=ts1[2:].tz_convert('Europe/Moscow')\n",
    "print(ts1)\n",
    "print(ts2)\n",
    "(ts1+ts2).index #utc"
   ]
  },
  {
   "cell_type": "code",
   "execution_count": 191,
   "metadata": {},
   "outputs": [
    {
     "data": {
      "text/plain": [
       "PeriodIndex(['2001Q1', '2001Q2', '2001Q3'], dtype='period[Q-DEC]', freq='Q-DEC')"
      ]
     },
     "execution_count": 191,
     "metadata": {},
     "output_type": "execute_result"
    }
   ],
   "source": [
    "# 週期和週期運算\n",
    "# 字串也可以建立periodindex\n",
    "val=['2001Q1','2001Q2','2001Q3']\n",
    "pd.PeriodIndex(val,freq='Q-DEC')"
   ]
  },
  {
   "cell_type": "code",
   "execution_count": 195,
   "metadata": {},
   "outputs": [
    {
     "name": "stdout",
     "output_type": "stream",
     "text": [
      "2007\n",
      "2007-01\n",
      "2007-12\n"
     ]
    }
   ],
   "source": [
    "# 時間區間頻率的轉換\n",
    "p=pd.Period('2007',freq='A-DEC')\n",
    "print(p)\n",
    "print(p.asfreq('M',how='start'))\n",
    "print(p.asfreq('M',how='end'))"
   ]
  },
  {
   "cell_type": "code",
   "execution_count": 6,
   "metadata": {},
   "outputs": [
    {
     "name": "stdout",
     "output_type": "stream",
     "text": [
      "2006-08\n",
      "2007\n"
     ]
    }
   ],
   "source": [
    "p=pd.Period('2006-AUG',freq='M')\n",
    "print(p)\n",
    "print(p.asfreq('A-JUN')) # 時間會根據間隔調整，ex.2006-8開始，若傳入1月則會調整為2007-1\n"
   ]
  },
  {
   "cell_type": "code",
   "execution_count": 13,
   "metadata": {},
   "outputs": [
    {
     "name": "stdout",
     "output_type": "stream",
     "text": [
      "2006    0.042974\n",
      "2007    0.936804\n",
      "2008    0.586441\n",
      "2009   -1.159823\n",
      "Freq: A-DEC, dtype: float64\n",
      "2006-01    0.042974\n",
      "2007-01    0.936804\n",
      "2008-01    0.586441\n",
      "2009-01   -1.159823\n",
      "Freq: M, dtype: float64\n"
     ]
    }
   ],
   "source": [
    "rng=pd.period_range('2006','2009',freq='A-DEC')\n",
    "ts=pd.Series(np.random.randn(4),index=rng)\n",
    "print(ts)\n",
    "print(ts.asfreq('M',how='start'))"
   ]
  },
  {
   "cell_type": "code",
   "execution_count": null,
   "metadata": {},
   "outputs": [],
   "source": [
    "# 季度期間頻率 待補..."
   ]
  },
  {
   "cell_type": "code",
   "execution_count": 20,
   "metadata": {},
   "outputs": [
    {
     "name": "stdout",
     "output_type": "stream",
     "text": [
      "2006-01-31    1.085668\n",
      "2006-02-28   -0.157171\n",
      "2006-03-31   -0.874127\n",
      "Freq: M, dtype: float64\n",
      "2006-01    1.085668\n",
      "2006-02   -0.157171\n",
      "2006-03   -0.874127\n",
      "Freq: M, dtype: float64\n",
      "2006-01-01    1.085668\n",
      "2006-02-01   -0.157171\n",
      "2006-03-01   -0.874127\n",
      "Freq: MS, dtype: float64\n"
     ]
    }
   ],
   "source": [
    "# 時間戳記轉換為期間物件\n",
    "rng=pd.date_range('2006-01-01',periods=3,freq='M')\n",
    "ts=pd.Series(np.random.randn(3),index=rng)\n",
    "print(ts)\n",
    "print(ts.to_period())\n",
    "\n",
    "ts2=ts.to_period()\n",
    "print(ts2.to_timestamp())"
   ]
  },
  {
   "cell_type": "code",
   "execution_count": 25,
   "metadata": {},
   "outputs": [
    {
     "data": {
      "text/html": [
       "<div>\n",
       "<style scoped>\n",
       "    .dataframe tbody tr th:only-of-type {\n",
       "        vertical-align: middle;\n",
       "    }\n",
       "\n",
       "    .dataframe tbody tr th {\n",
       "        vertical-align: top;\n",
       "    }\n",
       "\n",
       "    .dataframe thead th {\n",
       "        text-align: right;\n",
       "    }\n",
       "</style>\n",
       "<table border=\"1\" class=\"dataframe\">\n",
       "  <thead>\n",
       "    <tr style=\"text-align: right;\">\n",
       "      <th></th>\n",
       "      <th>year</th>\n",
       "      <th>quarter</th>\n",
       "      <th>realgdp</th>\n",
       "      <th>realcons</th>\n",
       "      <th>realinv</th>\n",
       "      <th>realgovt</th>\n",
       "      <th>realdpi</th>\n",
       "      <th>cpi</th>\n",
       "      <th>m1</th>\n",
       "      <th>tbilrate</th>\n",
       "      <th>unemp</th>\n",
       "      <th>pop</th>\n",
       "      <th>infl</th>\n",
       "      <th>realint</th>\n",
       "    </tr>\n",
       "  </thead>\n",
       "  <tbody>\n",
       "    <tr>\n",
       "      <th>0</th>\n",
       "      <td>1959.0</td>\n",
       "      <td>1.0</td>\n",
       "      <td>2710.349</td>\n",
       "      <td>1707.4</td>\n",
       "      <td>286.898</td>\n",
       "      <td>470.045</td>\n",
       "      <td>1886.9</td>\n",
       "      <td>28.98</td>\n",
       "      <td>139.7</td>\n",
       "      <td>2.82</td>\n",
       "      <td>5.8</td>\n",
       "      <td>177.146</td>\n",
       "      <td>0.00</td>\n",
       "      <td>0.00</td>\n",
       "    </tr>\n",
       "    <tr>\n",
       "      <th>1</th>\n",
       "      <td>1959.0</td>\n",
       "      <td>2.0</td>\n",
       "      <td>2778.801</td>\n",
       "      <td>1733.7</td>\n",
       "      <td>310.859</td>\n",
       "      <td>481.301</td>\n",
       "      <td>1919.7</td>\n",
       "      <td>29.15</td>\n",
       "      <td>141.7</td>\n",
       "      <td>3.08</td>\n",
       "      <td>5.1</td>\n",
       "      <td>177.830</td>\n",
       "      <td>2.34</td>\n",
       "      <td>0.74</td>\n",
       "    </tr>\n",
       "    <tr>\n",
       "      <th>2</th>\n",
       "      <td>1959.0</td>\n",
       "      <td>3.0</td>\n",
       "      <td>2775.488</td>\n",
       "      <td>1751.8</td>\n",
       "      <td>289.226</td>\n",
       "      <td>491.260</td>\n",
       "      <td>1916.4</td>\n",
       "      <td>29.35</td>\n",
       "      <td>140.5</td>\n",
       "      <td>3.82</td>\n",
       "      <td>5.3</td>\n",
       "      <td>178.657</td>\n",
       "      <td>2.74</td>\n",
       "      <td>1.09</td>\n",
       "    </tr>\n",
       "    <tr>\n",
       "      <th>3</th>\n",
       "      <td>1959.0</td>\n",
       "      <td>4.0</td>\n",
       "      <td>2785.204</td>\n",
       "      <td>1753.7</td>\n",
       "      <td>299.356</td>\n",
       "      <td>484.052</td>\n",
       "      <td>1931.3</td>\n",
       "      <td>29.37</td>\n",
       "      <td>140.0</td>\n",
       "      <td>4.33</td>\n",
       "      <td>5.6</td>\n",
       "      <td>179.386</td>\n",
       "      <td>0.27</td>\n",
       "      <td>4.06</td>\n",
       "    </tr>\n",
       "    <tr>\n",
       "      <th>4</th>\n",
       "      <td>1960.0</td>\n",
       "      <td>1.0</td>\n",
       "      <td>2847.699</td>\n",
       "      <td>1770.5</td>\n",
       "      <td>331.722</td>\n",
       "      <td>462.199</td>\n",
       "      <td>1955.5</td>\n",
       "      <td>29.54</td>\n",
       "      <td>139.6</td>\n",
       "      <td>3.50</td>\n",
       "      <td>5.2</td>\n",
       "      <td>180.007</td>\n",
       "      <td>2.31</td>\n",
       "      <td>1.19</td>\n",
       "    </tr>\n",
       "  </tbody>\n",
       "</table>\n",
       "</div>"
      ],
      "text/plain": [
       "     year  quarter   realgdp  realcons  realinv  realgovt  realdpi    cpi  \\\n",
       "0  1959.0      1.0  2710.349    1707.4  286.898   470.045   1886.9  28.98   \n",
       "1  1959.0      2.0  2778.801    1733.7  310.859   481.301   1919.7  29.15   \n",
       "2  1959.0      3.0  2775.488    1751.8  289.226   491.260   1916.4  29.35   \n",
       "3  1959.0      4.0  2785.204    1753.7  299.356   484.052   1931.3  29.37   \n",
       "4  1960.0      1.0  2847.699    1770.5  331.722   462.199   1955.5  29.54   \n",
       "\n",
       "      m1  tbilrate  unemp      pop  infl  realint  \n",
       "0  139.7      2.82    5.8  177.146  0.00     0.00  \n",
       "1  141.7      3.08    5.1  177.830  2.34     0.74  \n",
       "2  140.5      3.82    5.3  178.657  2.74     1.09  \n",
       "3  140.0      4.33    5.6  179.386  0.27     4.06  \n",
       "4  139.6      3.50    5.2  180.007  2.31     1.19  "
      ]
     },
     "execution_count": 25,
     "metadata": {},
     "output_type": "execute_result"
    }
   ],
   "source": [
    "# 從陣列建立periodindex\n",
    "data=pd.read_csv('examples/macrodata.csv')\n",
    "data.head(5)\n"
   ]
  },
  {
   "cell_type": "code",
   "execution_count": 22,
   "metadata": {},
   "outputs": [
    {
     "data": {
      "text/plain": [
       "PeriodIndex(['1959Q1', '1959Q2', '1959Q3', '1959Q4', '1960Q1', '1960Q2',\n",
       "             '1960Q3', '1960Q4', '1961Q1', '1961Q2',\n",
       "             ...\n",
       "             '2007Q2', '2007Q3', '2007Q4', '2008Q1', '2008Q2', '2008Q3',\n",
       "             '2008Q4', '2009Q1', '2009Q2', '2009Q3'],\n",
       "            dtype='period[Q-DEC]', length=203, freq='Q-DEC')"
      ]
     },
     "execution_count": 22,
     "metadata": {},
     "output_type": "execute_result"
    }
   ],
   "source": [
    "index=pd.PeriodIndex(year=data.year,quarter=data.quarter,freq='Q-DEC') # 把年和季度合併，並把它設為dataframe的index\n",
    "index"
   ]
  },
  {
   "cell_type": "code",
   "execution_count": 29,
   "metadata": {},
   "outputs": [
    {
     "data": {
      "text/plain": [
       "1959Q1    28.98\n",
       "1959Q2    29.15\n",
       "1959Q3    29.35\n",
       "1959Q4    29.37\n",
       "1960Q1    29.54\n",
       "Freq: Q-DEC, Name: cpi, dtype: float64"
      ]
     },
     "execution_count": 29,
     "metadata": {},
     "output_type": "execute_result"
    }
   ],
   "source": [
    "data.index=index\n",
    "data.cpi.head(5)"
   ]
  },
  {
   "cell_type": "code",
   "execution_count": 38,
   "metadata": {},
   "outputs": [
    {
     "data": {
      "text/plain": [
       "2006-01-01    0.279462\n",
       "2006-01-02    1.111115\n",
       "2006-01-03    0.836300\n",
       "2006-01-04    3.053539\n",
       "2006-01-05   -0.088664\n",
       "2006-01-06    0.564000\n",
       "2006-01-07   -0.335039\n",
       "2006-01-08    0.753882\n",
       "2006-01-09   -0.604378\n",
       "2006-01-10    0.278219\n",
       "Freq: D, dtype: float64"
      ]
     },
     "execution_count": 38,
     "metadata": {},
     "output_type": "execute_result"
    }
   ],
   "source": [
    "# 重新取樣與頻率轉換\n",
    "rng=pd.date_range('2006-01-01',periods=100,freq='D')\n",
    "ts=pd.Series(np.random.randn(100),index=rng)\n",
    "ts[:10]"
   ]
  },
  {
   "cell_type": "code",
   "execution_count": 49,
   "metadata": {},
   "outputs": [
    {
     "name": "stdout",
     "output_type": "stream",
     "text": [
      "2006-01-31    0.016674\n",
      "Freq: M, dtype: float64\n",
      "2006-01    0.016674\n",
      "Freq: M, dtype: float64\n"
     ]
    }
   ],
   "source": [
    "# 降低採樣頻率\n",
    "print(ts.resample('M').mean())\n",
    "print(ts.resample('M',kind='period').mean())"
   ]
  },
  {
   "cell_type": "code",
   "execution_count": 50,
   "metadata": {},
   "outputs": [
    {
     "data": {
      "text/plain": [
       "2006-01-01 00:00:00   -1.246443\n",
       "2006-01-01 00:01:00    0.567744\n",
       "2006-01-01 00:02:00   -0.945934\n",
       "2006-01-01 00:03:00    0.100147\n",
       "2006-01-01 00:04:00    0.462512\n",
       "2006-01-01 00:05:00   -0.437717\n",
       "2006-01-01 00:06:00    2.147927\n",
       "2006-01-01 00:07:00   -0.409432\n",
       "2006-01-01 00:08:00    0.156976\n",
       "2006-01-01 00:09:00   -1.562337\n",
       "2006-01-01 00:10:00    0.964842\n",
       "2006-01-01 00:11:00   -0.293237\n",
       "Freq: T, dtype: float64"
      ]
     },
     "execution_count": 50,
     "metadata": {},
     "output_type": "execute_result"
    }
   ],
   "source": [
    "rng=pd.date_range('2006-01-01',periods=12,freq='T')\n",
    "ts=pd.Series(np.random.randn(12),index=rng)\n",
    "ts"
   ]
  },
  {
   "cell_type": "code",
   "execution_count": 51,
   "metadata": {},
   "outputs": [
    {
     "data": {
      "text/plain": [
       "2005-12-31 23:55:00   -1.246443\n",
       "2006-01-01 00:00:00   -0.253249\n",
       "2006-01-01 00:05:00    1.297976\n",
       "2006-01-01 00:10:00   -0.293237\n",
       "Freq: 5T, dtype: float64"
      ]
     },
     "execution_count": 51,
     "metadata": {},
     "output_type": "execute_result"
    }
   ],
   "source": [
    "ts.resample('5min',closed='right').sum()\n",
    "# (closed='right') 9:00 | 9:01 | 9:02 | 9:03 | 9:04 | 9:05  \n",
    "#                         起點                         終點\n",
    "# (closed='left') 9:00 | 9:01 | 9:02 | 9:03 | 9:04 | 9:05  \n",
    "#                 起點                         終點"
   ]
  },
  {
   "cell_type": "code",
   "execution_count": 53,
   "metadata": {},
   "outputs": [
    {
     "data": {
      "text/plain": [
       "2005-12-31 23:59:59   -1.246443\n",
       "2006-01-01 00:04:59   -0.253249\n",
       "2006-01-01 00:09:59    1.297976\n",
       "2006-01-01 00:14:59   -0.293237\n",
       "Freq: 5T, dtype: float64"
      ]
     },
     "execution_count": 53,
     "metadata": {},
     "output_type": "execute_result"
    }
   ],
   "source": [
    "ts.resample('5min',closed='right',label='right',loffset='-1s').sum() # 設定位移量"
   ]
  },
  {
   "cell_type": "code",
   "execution_count": null,
   "metadata": {},
   "outputs": [],
   "source": []
  },
  {
   "cell_type": "code",
   "execution_count": null,
   "metadata": {},
   "outputs": [],
   "source": []
  },
  {
   "cell_type": "code",
   "execution_count": null,
   "metadata": {},
   "outputs": [],
   "source": []
  },
  {
   "cell_type": "code",
   "execution_count": null,
   "metadata": {},
   "outputs": [],
   "source": []
  },
  {
   "cell_type": "code",
   "execution_count": null,
   "metadata": {},
   "outputs": [],
   "source": []
  },
  {
   "cell_type": "code",
   "execution_count": null,
   "metadata": {},
   "outputs": [],
   "source": []
  },
  {
   "cell_type": "code",
   "execution_count": null,
   "metadata": {},
   "outputs": [],
   "source": []
  },
  {
   "cell_type": "code",
   "execution_count": null,
   "metadata": {},
   "outputs": [],
   "source": []
  }
 ],
 "metadata": {
  "kernelspec": {
   "display_name": "Python 3",
   "language": "python",
   "name": "python3"
  },
  "language_info": {
   "codemirror_mode": {
    "name": "ipython",
    "version": 3
   },
   "file_extension": ".py",
   "mimetype": "text/x-python",
   "name": "python",
   "nbconvert_exporter": "python",
   "pygments_lexer": "ipython3",
   "version": "3.7.3"
  }
 },
 "nbformat": 4,
 "nbformat_minor": 2
}
