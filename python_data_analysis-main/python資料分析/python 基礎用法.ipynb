{
 "cells": [
  {
   "cell_type": "code",
   "execution_count": 2,
   "metadata": {},
   "outputs": [],
   "source": [
    "# 物件內省，顯示物件的資訊\n",
    "b=[1,2,3]\n",
    "b?\n",
    "\n",
    "# output:\n",
    "# Type:        list\n",
    "# String form: [1, 2, 3]\n",
    "# Length:      3\n",
    "# Docstring:  \n",
    "# Built-in mutable sequence.\n",
    "\n",
    "# If no argument is given, the constructor creates a new empty list.\n",
    "# The argument must be an iterable if specified.\n"
   ]
  },
  {
   "cell_type": "code",
   "execution_count": 9,
   "metadata": {},
   "outputs": [],
   "source": [
    "def add_number(a,b):\n",
    "    '''\n",
    "    Docstring:\n",
    "    add 2 numbers\n",
    "    '''\n",
    "    return a+b\n",
    "\n",
    "add_number?\n",
    "\n",
    "# output:\n",
    "# Signature: add_number(a, b)\n",
    "# Docstring:\n",
    "# Docstring:\n",
    "# add 2 numbers\n",
    "# File:      c:\\users\\10011\\desktop\\python資料分析\\<ipython-input-9-e9b2f533cab7>\n",
    "# Type:      function"
   ]
  },
  {
   "cell_type": "code",
   "execution_count": null,
   "metadata": {},
   "outputs": [],
   "source": [
    "# %load for_load.ipynb 把腳本從其他檔案load進來\n",
    "{\n",
    " \"cells\": [\n",
    "  {\n",
    "   \"cell_type\": \"code\",\n",
    "   \"execution_count\": 1,\n",
    "   \"metadata\": {},\n",
    "   \"outputs\": [],\n",
    "   \"source\": [\n",
    "    \"def test(x,y):\\n\",\n",
    "    \"    x=3\\n\",\n",
    "    \"    y=4\\n\",\n",
    "    \"    return x*y\"\n",
    "   ]\n",
    "  }\n",
    " ],\n",
    " \"metadata\": {\n",
    "  \"kernelspec\": {\n",
    "   \"display_name\": \"Python 3\",\n",
    "   \"language\": \"python\",\n",
    "   \"name\": \"python3\"\n",
    "  },\n",
    "  \"language_info\": {\n",
    "   \"codemirror_mode\": {\n",
    "    \"name\": \"ipython\",\n",
    "    \"version\": 3\n",
    "   },\n",
    "   \"file_extension\": \".py\",\n",
    "   \"mimetype\": \"text/x-python\",\n",
    "   \"name\": \"python\",\n",
    "   \"nbconvert_exporter\": \"python\",\n",
    "   \"pygments_lexer\": \"ipython3\",\n",
    "   \"version\": \"3.7.7\"\n",
    "  }\n",
    " },\n",
    " \"nbformat\": 4,\n",
    " \"nbformat_minor\": 4\n",
    "}\n"
   ]
  },
  {
   "cell_type": "code",
   "execution_count": 22,
   "metadata": {},
   "outputs": [],
   "source": [
    "# ;在一行中表示多個statement\n",
    "a=1;b=2;c=100\n",
    "def foo():\n",
    "    for i in range(3):\n",
    "        return a+b+c"
   ]
  },
  {
   "cell_type": "code",
   "execution_count": 25,
   "metadata": {},
   "outputs": [
    {
     "name": "stdout",
     "output_type": "stream",
     "text": [
      "[1, 2, 3]\n",
      "[1, 2, 3, 4]\n"
     ]
    }
   ],
   "source": [
    "# python 做資料複製時，將新的變數指向原本的資料，故資料為同一份\n",
    "x=[1,2,3]\n",
    "a=x\n",
    "print(a)\n",
    "x.append(4)\n",
    "print(a)"
   ]
  },
  {
   "cell_type": "code",
   "execution_count": 28,
   "metadata": {},
   "outputs": [
    {
     "data": {
      "text/plain": [
       "True"
      ]
     },
     "execution_count": 28,
     "metadata": {},
     "output_type": "execute_result"
    }
   ],
   "source": [
    "# isinstance檢查物件是否符合你要的型態\n",
    "a=100\n",
    "isinstance(a,(int,float))"
   ]
  },
  {
   "cell_type": "code",
   "execution_count": 60,
   "metadata": {},
   "outputs": [
    {
     "name": "stdout",
     "output_type": "stream",
     "text": [
      "(4, 5, 6)\n",
      "((1, 2, 3), (5, 9))\n",
      "('i am list',)\n",
      "('apple', [1, 2, 3, 4], True)\n",
      "(1, 2, 3, 4, 5, 6)\n",
      "(1, 2, 3, 1, 2, 3, 1, 2, 3)\n",
      "1\n",
      "(2, 3)\n",
      "1 2\n",
      "5 58 9\n"
     ]
    }
   ],
   "source": [
    "# tuple基本操作\n",
    "tup=4,5,6\n",
    "print(tup)\n",
    "\n",
    "nest_tup=(1,2,3),(5,9)\n",
    "print(nest_tup)\n",
    "\n",
    "l1=['i am list']\n",
    "print(tuple(l1))\n",
    "\n",
    "tup=('apple',[1,2,3],True)\n",
    "tup[1].append(4)\n",
    "# tup[0].append('orangre') 若tuple中的物件非mutable,則\n",
    "print(tup)\n",
    "\n",
    "tup1=1,2,3\n",
    "tup2=4,5,6\n",
    "tup3=tup1+tup2\n",
    "print(tup3)\n",
    "print(tup1*3)\n",
    "\n",
    "# 拆除tuple\n",
    "tup=1,2,3\n",
    "a,b,c=tup\n",
    "print(a)\n",
    "tup2=1,5,(2,3)\n",
    "a,b,c=tup2\n",
    "print(c)\n",
    "\n",
    "# 內建*rest，擷取tuple\n",
    "tup=1,2,3,5,58,9\n",
    "a,b,c,*rest=tup\n",
    "print(a,b)\n",
    "print(*rest)\n",
    "\n"
   ]
  },
  {
   "cell_type": "code",
   "execution_count": 83,
   "metadata": {},
   "outputs": [
    {
     "name": "stdout",
     "output_type": "stream",
     "text": [
      "[1, 2, 3, 4]\n",
      "[1, 2, 'foo', 3, 4]\n",
      "[1, 2, 'foo', 4]\n",
      "[1, 2, 4]\n",
      "[1, 2, 4, 77, 88, '不要9']\n",
      "[1, 2, 4, 77, 88, '不要9', 1, 2, 4, 77, 88, '不要9', 1, 2, 4, 77, 88, '不要9', 1, 2, 4, 77, 88, '不要9', 1, 2, 4, 77, 88, '不要9', 1, 2, 4, 77, 88, '不要9']\n",
      "['citys sweeping national security by Beijing last year.', 'makers', 'zen of amd']\n",
      "['makers', 'zen of amd', 'citys sweeping national security by Beijing last year.']\n",
      "[1, 2, 2, 2, 5, 66, 70, 89, 111, 112, 116]\n"
     ]
    }
   ],
   "source": [
    "# list基本操作\n",
    "\n",
    "# add element at tail\n",
    "l1=[1,2,3]\n",
    "l1.append(4)\n",
    "print(l1)\n",
    "\n",
    "# insert into anywhere in list\n",
    "l1.insert(2,'foo')\n",
    "print(l1)\n",
    "\n",
    "# delete element anywhere in list\n",
    "l1.pop(3)\n",
    "print(l1)\n",
    "\n",
    "l1.remove('foo')\n",
    "print(l1)\n",
    "\n",
    "# add many element at once\n",
    "# 在大型list中,若是使用 + 號拼接，則必須新建一個list把物件複製過去，在處理大型list時，應盡量使用extend\n",
    "l1.extend([77,88,'不要9'])\n",
    "print(l1)\n",
    "\n",
    "temp=[]\n",
    "for i in l1:\n",
    "    temp.extend(l1)\n",
    "print(temp)\n",
    "\n",
    "# sort (inplace)\n",
    "word=['Dozens','lawmakers','opposition the citys sweeping national security by Beijing last year.']\n",
    "word=['zen of amd','makers','citys sweeping national security by Beijing last year.']\n",
    "word.sort()\n",
    "print(word)\n",
    "word.sort(key=len)\n",
    "print(word)\n",
    "\n",
    "#若list以按照順序排好，則可使用內建的模組做二元搜尋/插入\n",
    "import bisect\n",
    "sorted_l=[1,2,2,2,5,66,89,111,112,116]\n",
    "bisect.bisect(sorted_l,66) # 尋找應插入的位置 66,right place,89\n",
    "bisect.insort(sorted_l,70) # 插入\n",
    "print(sorted_l)\n",
    "\n",
    "\n"
   ]
  },
  {
   "cell_type": "code",
   "execution_count": 5,
   "metadata": {},
   "outputs": [
    {
     "name": "stdout",
     "output_type": "stream",
     "text": [
      "[3, 6, 8]\n",
      "[1, 2, 3, 'apple', 'orange', 8]\n",
      "[1, 3, 5, 9]\n",
      "[9, 8, 5, 6, 3, 2, 1]\n"
     ]
    }
   ],
   "source": [
    "# slice，對list做資料切片\n",
    "#基本用法=>[開始:結束]\n",
    "seq=[1,2,3,6,8]\n",
    "print(seq[2:5])\n",
    "\n",
    "#assigned value\n",
    "seq[3:4]=['apple','orange']\n",
    "print(seq)\n",
    "\n",
    "#進階用法:[開始:結束:步長]\n",
    "seq=[1,2,3,6,5,8,9]\n",
    "print(seq[::2])\n",
    "print(seq[::-1]) # 等同於reversed"
   ]
  },
  {
   "cell_type": "code",
   "execution_count": 52,
   "metadata": {},
   "outputs": [
    {
     "name": "stdout",
     "output_type": "stream",
     "text": [
      "0 火鍋\n",
      "1 燒烤\n",
      "2 熱狗\n",
      "{'火鍋': 0, '燒烤': 1, '熱狗': 2}\n"
     ]
    }
   ],
   "source": [
    "# enumerate,回傳(i,value)\n",
    "food=['火鍋','燒烤','熱狗']\n",
    "for i,value in enumerate(food):\n",
    "    print(i,value)\n",
    "    \n",
    "mapping={} #把list做成dict\n",
    "for i,value in enumerate(food):\n",
    "    mapping[value]=i\n",
    "print(mapping)\n",
    "\n",
    "\n"
   ]
  },
  {
   "cell_type": "code",
   "execution_count": 11,
   "metadata": {},
   "outputs": [
    {
     "data": {
      "text/plain": [
       "['.', 'c', 'i', 's', 't', 'y']"
      ]
     },
     "execution_count": 11,
     "metadata": {},
     "output_type": "execute_result"
    }
   ],
   "source": [
    "# sorted\n",
    "sorted('citys.')"
   ]
  },
  {
   "cell_type": "code",
   "execution_count": 13,
   "metadata": {},
   "outputs": [
    {
     "name": "stdout",
     "output_type": "stream",
     "text": [
      "<zip object at 0x0000029C138885C8>\n",
      "[('火鍋', 150), ('燒烤', 200), ('熱狗', 50)]\n",
      "<zip object at 0x0000029C13888608>\n",
      "[('火鍋', 150, '台北'), ('燒烤', 200, '台中')]\n",
      "('wang', 'shi', 'mao')\n",
      "('shioming', 'gingping', 'zhudong')\n"
     ]
    }
   ],
   "source": [
    "# zip,把數個list或tuple，或list和list中元素互相配對，建立新的tuple\n",
    "\n",
    "food=['火鍋','燒烤','熱狗']\n",
    "price=[150,200,50]\n",
    "location=['台北','台中']\n",
    "result=zip(food,price)\n",
    "print(result)\n",
    "print(list(result))\n",
    "\n",
    "# 以最短tuple output\n",
    "print(zip(food,price,location))\n",
    "print(list(zip(food,price,location)))\n",
    "\n",
    "# unzip\n",
    "name=[('wang','shioming'),('shi','gingping'),('mao','zhudong')]\n",
    "first_name,last_name=zip(*name)\n",
    "print(first_name)\n",
    "print(last_name)"
   ]
  },
  {
   "cell_type": "code",
   "execution_count": 7,
   "metadata": {},
   "outputs": [
    {
     "name": "stdout",
     "output_type": "stream",
     "text": [
      "0 火鍋 150\n",
      "1 燒烤 200\n",
      "2 熱狗 50\n"
     ]
    }
   ],
   "source": [
    "# 對多個list做疊代\n",
    "food=['火鍋','燒烤','熱狗']\n",
    "price=[150,200,50]\n",
    "location=['台北','台中','新竹','高雄']\n",
    "result=zip(food,price)\n",
    "for i,(a,b) in enumerate(result):\n",
    "    print(i,a,b)"
   ]
  },
  {
   "cell_type": "code",
   "execution_count": 77,
   "metadata": {},
   "outputs": [
    {
     "name": "stdout",
     "output_type": "stream",
     "text": [
      "apple\n",
      "new_product\n",
      "{1: 'apple', 2: 'meat', 3: 'water', 4: 'new_product'}\n",
      "{2: 'meat', 3: 'water', 4: 'new_product'}\n",
      "meat\n",
      "{3: 'water', 4: 'new_product'}\n",
      "[3, 4]\n",
      "['water', 'new_product']\n",
      "{3: 'water', 4: 'new_product'}\n",
      "{3: 'water', 4: 'new_product', 5: 'book', 6: 'computer'}\n",
      "{0: '火鍋', 1: '燒烤', 2: '熱狗'}\n",
      "{'a': ['apple', 'applause'], 'c': ['create', 'come'], 'm': ['model']}\n",
      "{'p': ['poor', 'plane'], 'c': ['create', 'come']}\n",
      "defaultdict(<class 'list'>, {'p': ['poor', 'plane'], 'c': ['create', 'come']})\n"
     ]
    },
    {
     "data": {
      "text/plain": [
       "{(1, 2, 3): 5}"
      ]
     },
     "execution_count": 77,
     "metadata": {},
     "output_type": "execute_result"
    }
   ],
   "source": [
    "# dict\n",
    "d1={1:'apple',2:'meat',3:'water'}\n",
    "print(d1[1])\n",
    "d1[4]='new_product'\n",
    "print(d1[4])\n",
    "print(d1)\n",
    "\n",
    "#del/pop\n",
    "del d1[1]\n",
    "print(d1)\n",
    "temp=d1.pop(2) # return value後刪除key\n",
    "print(temp)\n",
    "print(d1)\n",
    "\n",
    "# return key or value\n",
    "print(list(d1.keys()))\n",
    "print(list(d1.values()))\n",
    "\n",
    "#conbine dict\n",
    "print(d1)\n",
    "d1.update({5:'book', 6:'computer'})\n",
    "print(d1)\n",
    "\n",
    "#create dict from list\n",
    "#dict本質是兩個tuple元素的集合\n",
    "mapping=dict(zip(range(5),food))\n",
    "print(mapping)\n",
    "\n",
    "#設定dict的預設值\n",
    "words=['apple','create','come','applause','model']\n",
    "letters={}\n",
    "for word in words: # apple/create/something/model\n",
    "    first_letter=word[0] # a/c/s/m\n",
    "    if first_letter not in letters:\n",
    "        letters[first_letter]=[word] # 設定鍵=值\n",
    "    else:\n",
    "        letters[first_letter].append(word) # 若字首存在，新的word用append接續在後面\n",
    "print(letters)\n",
    "\n",
    "#use dict method=>setdefault\n",
    "words=['poor','create','come','plane']\n",
    "letters={}\n",
    "for word in words:\n",
    "    first_letter=word[0]\n",
    "    letters.setdefault(first_letter,[]).append(word)\n",
    "print(letters)\n",
    "\n",
    "#use build_in class\n",
    "from collections import defaultdict\n",
    "letters=defaultdict(list) #設定資料type\n",
    "for word in words:\n",
    "    letters[word[0]].append(word)\n",
    "print(letters)\n",
    "\n",
    "# key型態是不可變動的\n",
    "d={}\n",
    "t=1,2,3\n",
    "d[t]=5 # key:tuple(1,2,3) value:5\n",
    "d"
   ]
  },
  {
   "cell_type": "code",
   "execution_count": 93,
   "metadata": {},
   "outputs": [
    {
     "name": "stdout",
     "output_type": "stream",
     "text": [
      "['POSITION', 'EXPRESS']\n",
      "[1, 2, 3, 4, 5, 6, 7, 8, 9]\n",
      "['position']\n",
      "{8, 5, 7}\n",
      "{8, 5, 7}\n"
     ]
    }
   ],
   "source": [
    "# list包含式\n",
    "#[expression for value in collection if condition.....]\n",
    "test=['apple','position','express','print']\n",
    "res=[i.upper() for i in test if len(i)>5]\n",
    "print(res)\n",
    "\n",
    "#nested list包含式\n",
    "tups=[(1,2,3),(4,5,6,),(7,8,9)] \n",
    "flattened=[j for i in tups for j in i] #nested for\n",
    "print(flattened)\n",
    "\n",
    "double_i=[i for i in test if i.count('i')>=2]\n",
    "print(double_i)\n",
    "\n",
    "# dict包含式\n",
    "#{key_expression:value_expression for val in collection if condition....}\n",
    "\n",
    "# set包含式\n",
    "#{expression for val in collection if condition....}\n",
    "length={len(i) for i in test} # 字串長度\n",
    "print(length)\n",
    "length=set(map(len,test))\n",
    "print(length)"
   ]
  },
  {
   "cell_type": "code",
   "execution_count": 115,
   "metadata": {},
   "outputs": [
    {
     "name": "stdout",
     "output_type": "stream",
     "text": [
      "   jb51.net \n",
      "jb51.net\n"
     ]
    }
   ],
   "source": [
    "# map\n",
    "\n",
    "# strip\n",
    "# 用於移除字符串頭尾指定的字符（默認為空格）或字符序列。\n",
    "# 注意：該方法只能刪除開頭或是結尾的字符，不能刪除中間部分的字符。\n",
    "str1 = \"0000000   jb51.net 0000000\"\n",
    "print(str1.strip('0')) # 去除首尾字元 0 \n",
    "str2 = \"  jb51.net   \"  # 去除首尾空格\n",
    "print(str2.strip())"
   ]
  },
  {
   "cell_type": "code",
   "execution_count": 142,
   "metadata": {},
   "outputs": [
    {
     "name": "stdout",
     "output_type": "stream",
     "text": [
      "hello 000 word 000\n",
      "hello 333 word 333\n",
      "2004959559\n",
      "Apple With New Application\n"
     ]
    }
   ],
   "source": [
    "# re.sub的含義：對於輸入的一個字串，利用正規表示式，去實現字串替換處理，然後返回被替換後的字串\n",
    "# re,sup(pattern,)\n",
    "import re\n",
    "str1 = \"hello 111 word 111\"\n",
    "temp=str1.replace('111','000')\n",
    "print(temp)\n",
    "temp2=re.sub('\\d','3',str1) #詳細用法:https://docs.python.org/zh-cn/3/library/re.html/https://blog.csdn.net/bingocoder/article/details/103746826\n",
    "print(temp2)\n",
    "\n",
    "phone = \"2004-959-559\"\n",
    "# Delete Python-style comments\n",
    "print(re.sub('-','',phone))\n",
    "\n",
    "#str.title(),返回字串開頭為大寫\n",
    "x='apple with new application'\n",
    "print(x.title())\n"
   ]
  },
  {
   "cell_type": "code",
   "execution_count": 7,
   "metadata": {},
   "outputs": [
    {
     "name": "stdout",
     "output_type": "stream",
     "text": [
      "4\n",
      "40\n",
      "[8, 0, 4, 6, 18, 16]\n"
     ]
    }
   ],
   "source": [
    "#lamda(匿名函示)\n",
    "def test(x):\n",
    "    return x*2\n",
    "print(test(2))\n",
    "\n",
    "equal=lambda x,y:x*2+y\n",
    "print(equal(10,20))\n",
    "\n",
    "#可同時使用function + lambda\n",
    "def apply_to_list(l1,f): # 把函式當參數\n",
    "    return [f(i) for i in l1]\n",
    "nums=[4,0,2,3,9,8]\n",
    "print(apply_to_list(nums,lambda i:i*2))\n"
   ]
  },
  {
   "cell_type": "code",
   "execution_count": 24,
   "metadata": {},
   "outputs": [
    {
     "name": "stdout",
     "output_type": "stream",
     "text": [
      "1\n",
      "2\n",
      "3\n",
      "4\n",
      "<dict_keyiterator object at 0x000001B14977D958>\n",
      "[1, 2, 3, 4]\n"
     ]
    }
   ],
   "source": [
    "# 疊代器,使用iter進行疊代\n",
    "#原先版本\n",
    "test={1:'apple',2:'position',3:'express',4:'print'}\n",
    "for i in test:\n",
    "    print(i)\n",
    "\n",
    "dict_iterator=iter(test)\n",
    "print(dict_iterator)\n",
    "print(list(dict_iterator))"
   ]
  },
  {
   "cell_type": "code",
   "execution_count": 38,
   "metadata": {},
   "outputs": [
    {
     "name": "stdout",
     "output_type": "stream",
     "text": [
      "0\n",
      "1\n",
      "4\n",
      "9\n",
      "16\n",
      "25\n",
      "36\n",
      "49\n",
      "64\n",
      "81\n",
      "0\n",
      "1\n",
      "4\n",
      "9\n",
      "16\n",
      "25\n",
      "36\n",
      "49\n",
      "64\n",
      "81\n"
     ]
    }
   ],
   "source": [
    "# 產生器，產生一個新的疊代物件\n",
    "# 配合yield，因為產生器不會主動回傳全部的的結果\n",
    "def squares(n=10):\n",
    "    for i in range(n):\n",
    "        print(i**2)\n",
    "        \n",
    "\n",
    "def squares_gen(n=10):\n",
    "    for i in range(n):\n",
    "        yield i**2\n",
    "a=squares()\n",
    "b=squares_gen() \n",
    "a\n",
    "b\n",
    "\n",
    "for x in b:\n",
    "    print(x)"
   ]
  },
  {
   "cell_type": "code",
   "execution_count": 47,
   "metadata": {},
   "outputs": [
    {
     "name": "stdout",
     "output_type": "stream",
     "text": [
      "<generator object <genexpr> at 0x000001B1497FB2A0>\n",
      "[0, 2, 4, 6, 8, 10, 12, 14, 16, 18, 20, 22, 24, 26, 28, 30, 32, 34, 36, 38]\n",
      "4950\n",
      "{0: 1, 1: 2, 2: 3, 3: 4, 4: 5}\n"
     ]
    }
   ],
   "source": [
    "# 產生器expression,類似包含式\n",
    "gen=(i*2 for i in range(20))\n",
    "print(gen)\n",
    "print(list(gen))\n",
    "\n",
    "print(sum(i for i in range(100)))\n",
    "print(dict((i,i+1) for i in range(5)))\n",
    "\n",
    "#itertool詳細用法"
   ]
  },
  {
   "cell_type": "code",
   "execution_count": 49,
   "metadata": {},
   "outputs": [
    {
     "ename": "ValueError",
     "evalue": "could not convert string to float: 'aaa'",
     "output_type": "error",
     "traceback": [
      "\u001b[1;31m---------------------------------------------------------------------------\u001b[0m",
      "\u001b[1;31mValueError\u001b[0m                                Traceback (most recent call last)",
      "\u001b[1;32m<ipython-input-49-3bc02e944b0f>\u001b[0m in \u001b[0;36m<module>\u001b[1;34m\u001b[0m\n\u001b[0;32m      1\u001b[0m \u001b[1;31m# error and exception\u001b[0m\u001b[1;33m\u001b[0m\u001b[1;33m\u001b[0m\u001b[1;33m\u001b[0m\u001b[0m\n\u001b[1;32m----> 2\u001b[1;33m \u001b[0mfloat\u001b[0m\u001b[1;33m(\u001b[0m\u001b[1;34m'aaa'\u001b[0m\u001b[1;33m)\u001b[0m\u001b[1;33m\u001b[0m\u001b[1;33m\u001b[0m\u001b[0m\n\u001b[0m",
      "\u001b[1;31mValueError\u001b[0m: could not convert string to float: 'aaa'"
     ]
    }
   ],
   "source": [
    "# error and exception\n",
    "float('aaa')"
   ]
  },
  {
   "cell_type": "code",
   "execution_count": 51,
   "metadata": {},
   "outputs": [
    {
     "data": {
      "text/plain": [
       "'thx'"
      ]
     },
     "execution_count": 51,
     "metadata": {},
     "output_type": "execute_result"
    }
   ],
   "source": [
    "def foo(x):\n",
    "    try:\n",
    "        return float(x)\n",
    "    except:\n",
    "        return x\n",
    "foo('thx')"
   ]
  },
  {
   "cell_type": "code",
   "execution_count": 60,
   "metadata": {},
   "outputs": [
    {
     "ename": "TypeError",
     "evalue": "float() argument must be a string or a number, not 'dict'",
     "output_type": "error",
     "traceback": [
      "\u001b[1;31m---------------------------------------------------------------------------\u001b[0m",
      "\u001b[1;31mTypeError\u001b[0m                                 Traceback (most recent call last)",
      "\u001b[1;32m<ipython-input-60-da03b6cf589f>\u001b[0m in \u001b[0;36m<module>\u001b[1;34m\u001b[0m\n\u001b[0;32m      5\u001b[0m \u001b[1;31m#     except (ValueError,TypeError):\u001b[0m\u001b[1;33m\u001b[0m\u001b[1;33m\u001b[0m\u001b[1;33m\u001b[0m\u001b[0m\n\u001b[0;32m      6\u001b[0m         \u001b[1;32mreturn\u001b[0m \u001b[0mx\u001b[0m\u001b[1;33m\u001b[0m\u001b[1;33m\u001b[0m\u001b[0m\n\u001b[1;32m----> 7\u001b[1;33m \u001b[0mfoo\u001b[0m\u001b[1;33m(\u001b[0m\u001b[1;33m{\u001b[0m\u001b[1;34m'a'\u001b[0m\u001b[1;33m:\u001b[0m\u001b[1;36m123\u001b[0m\u001b[1;33m}\u001b[0m\u001b[1;33m)\u001b[0m\u001b[1;33m\u001b[0m\u001b[1;33m\u001b[0m\u001b[0m\n\u001b[0m",
      "\u001b[1;32m<ipython-input-60-da03b6cf589f>\u001b[0m in \u001b[0;36mfoo\u001b[1;34m(x)\u001b[0m\n\u001b[0;32m      1\u001b[0m \u001b[1;32mdef\u001b[0m \u001b[0mfoo\u001b[0m\u001b[1;33m(\u001b[0m\u001b[0mx\u001b[0m\u001b[1;33m)\u001b[0m\u001b[1;33m:\u001b[0m\u001b[1;33m\u001b[0m\u001b[1;33m\u001b[0m\u001b[0m\n\u001b[0;32m      2\u001b[0m     \u001b[1;32mtry\u001b[0m\u001b[1;33m:\u001b[0m\u001b[1;33m\u001b[0m\u001b[1;33m\u001b[0m\u001b[0m\n\u001b[1;32m----> 3\u001b[1;33m         \u001b[1;32mreturn\u001b[0m \u001b[0mfloat\u001b[0m\u001b[1;33m(\u001b[0m\u001b[0mx\u001b[0m\u001b[1;33m)\u001b[0m\u001b[1;33m\u001b[0m\u001b[1;33m\u001b[0m\u001b[0m\n\u001b[0m\u001b[0;32m      4\u001b[0m     \u001b[1;32mexcept\u001b[0m \u001b[0mValueError\u001b[0m\u001b[1;33m:\u001b[0m\u001b[1;33m\u001b[0m\u001b[1;33m\u001b[0m\u001b[0m\n\u001b[0;32m      5\u001b[0m \u001b[1;31m#     except (ValueError,TypeError):\u001b[0m\u001b[1;33m\u001b[0m\u001b[1;33m\u001b[0m\u001b[1;33m\u001b[0m\u001b[0m\n",
      "\u001b[1;31mTypeError\u001b[0m: float() argument must be a string or a number, not 'dict'"
     ]
    }
   ],
   "source": [
    "def foo(x):\n",
    "    try:\n",
    "        return float(x)\n",
    "    except ValueError:\n",
    "#     except (ValueError,TypeError):\n",
    "        return x\n",
    "foo({'a':123})"
   ]
  },
  {
   "cell_type": "code",
   "execution_count": null,
   "metadata": {},
   "outputs": [],
   "source": [
    "# 常用的方法\n",
    "# try:\n",
    "#     statement\n",
    "# except:\n",
    "#     statement\n",
    "# else:\n",
    "#     statement\n",
    "# finally:\n",
    "#     statement\n",
    "    \n",
    "    \n",
    "    "
   ]
  },
  {
   "cell_type": "code",
   "execution_count": 72,
   "metadata": {},
   "outputs": [
    {
     "name": "stdout",
     "output_type": "stream",
     "text": [
      "(CNN)Republican Sen. Pat Toomey of Pennsylvania said Saturday he thinks President Donald Trump \"committed impeachable offenses,\" but said he is not certain attempting to remove the President from office with just a few days left in his term is the right course of action.\n",
      "\n",
      "\"I do think the President committed impeachable offenses,\" Toomey told Fox News. \n",
      "\n",
      "The senator, who has said he is not going to run for reelection in 2022, would not say whether he would vote to impeach Trump should there be a Senate trial, saying he is not certain what kind of articles of impeachment would be passed by the Democrat-led House of Representatives.\n",
      "Toomey said he believes Trump's \"behavior this week does disqualify him from serving. But we've got 10 days left, 11 days left.\"\n",
      "\n",
      "\"I don't know whether logistically it's actually really even possible or practical and I'm not sure it's desirable to attempt to force him out, what a day or two or three prior to the day on which he's going to be finished anyway,\" Toomey said. \"So I'm not clear that's the best path forward.\"\n",
      "House Speaker Nancy Pelosi said Friday Democrats are prepared to move forward next week with impeaching the President over his role in Wednesday's deadly attack on the US Capitol if he doesn't resign. House Democrats plan to introduce their impeachment resolution on Monday.\n",
      "A growing number of Republicans want Trump to leave office before January 20, the day President-elect Joe Biden will be sworn in as the next president.\n",
      "Republican Sen. Lisa Murkowski of Alaska became the first Republican senator to call on Trump to resign on Friday, telling the Anchorage Daily News, \"I want him out. He has caused enough damage.\" Republican Rep. Adam Kinzinger of Illinois has endorsed invoking the 25th Amendment, which would force Trump's removal from office.\n",
      "Republican Sen. Ben Sasse of Nebraska said in radio interviews Friday that he would consider impeachment but questioned whether that was the right course of action.\n",
      "Multiple Republicans are considering supporting impeachment, sources say\n",
      "But on Saturday, seven Republican members of the House sent a letter to Biden asking the President-elect to formally request that Pelosi not pursue impeachment. These Republicans had previously issued a joint statement opposing the objection made by several of their Republican colleagues against certifying the Electoral College vote.\n",
      "\"A second impeachment, only days before President Trump will leave office, is as unnecessary as it is inflammatory,\" the letter reads. \"This impeachment would undermine your priority of unifying Americans, and would be a further distraction to our nation at a time when millions of our fellow citizens are hurting because of the pandemic and the economic fallout.\"\n",
      "The letter was signed by Republican Reps. Ken Buck of Colorado, Thomas Massie of Kentucky, Tom McClintock of California, Nancy Mace of South Carolina, Chip Roy of Texas, Kelly Armstrong of North Dakota and Mike Gallagher of Wisconsin.\n",
      "CNN's Phil Mattingly, Michael Warren and Jamie Gangel contributed to this report.\n"
     ]
    }
   ],
   "source": [
    "# file and os\n",
    "path='./data/sample.txt'\n",
    "# f=open(path,'r')\n",
    "# for line in f:\n",
    "#     print(f)\n",
    "# f.close()\n",
    "\n",
    "with open(path,'r') as f: # with會自動呼叫close()\n",
    "    print(f.read())"
   ]
  },
  {
   "cell_type": "code",
   "execution_count": 73,
   "metadata": {},
   "outputs": [
    {
     "data": {
      "text/plain": [
       "['(CNN)Republican Sen. Pat Toomey of Pennsylvania said Saturday he thinks President Donald Trump \"committed impeachable offenses,\" but said he is not certain attempting to remove the President from office with just a few days left in his term is the right course of action.\\n',\n",
       " '\"I do think the President committed impeachable offenses,\" Toomey told Fox News. \\n',\n",
       " 'The senator, who has said he is not going to run for reelection in 2022, would not say whether he would vote to impeach Trump should there be a Senate trial, saying he is not certain what kind of articles of impeachment would be passed by the Democrat-led House of Representatives.\\n',\n",
       " 'Toomey said he believes Trump\\'s \"behavior this week does disqualify him from serving. But we\\'ve got 10 days left, 11 days left.\"\\n',\n",
       " '\"I don\\'t know whether logistically it\\'s actually really even possible or practical and I\\'m not sure it\\'s desirable to attempt to force him out, what a day or two or three prior to the day on which he\\'s going to be finished anyway,\" Toomey said. \"So I\\'m not clear that\\'s the best path forward.\"\\n',\n",
       " \"House Speaker Nancy Pelosi said Friday Democrats are prepared to move forward next week with impeaching the President over his role in Wednesday's deadly attack on the US Capitol if he doesn't resign. House Democrats plan to introduce their impeachment resolution on Monday.\\n\",\n",
       " 'A growing number of Republicans want Trump to leave office before January 20, the day President-elect Joe Biden will be sworn in as the next president.\\n',\n",
       " 'Republican Sen. Lisa Murkowski of Alaska became the first Republican senator to call on Trump to resign on Friday, telling the Anchorage Daily News, \"I want him out. He has caused enough damage.\" Republican Rep. Adam Kinzinger of Illinois has endorsed invoking the 25th Amendment, which would force Trump\\'s removal from office.\\n',\n",
       " 'Republican Sen. Ben Sasse of Nebraska said in radio interviews Friday that he would consider impeachment but questioned whether that was the right course of action.\\n',\n",
       " 'Multiple Republicans are considering supporting impeachment, sources say\\n',\n",
       " 'But on Saturday, seven Republican members of the House sent a letter to Biden asking the President-elect to formally request that Pelosi not pursue impeachment. These Republicans had previously issued a joint statement opposing the objection made by several of their Republican colleagues against certifying the Electoral College vote.\\n',\n",
       " '\"A second impeachment, only days before President Trump will leave office, is as unnecessary as it is inflammatory,\" the letter reads. \"This impeachment would undermine your priority of unifying Americans, and would be a further distraction to our nation at a time when millions of our fellow citizens are hurting because of the pandemic and the economic fallout.\"\\n',\n",
       " 'The letter was signed by Republican Reps. Ken Buck of Colorado, Thomas Massie of Kentucky, Tom McClintock of California, Nancy Mace of South Carolina, Chip Roy of Texas, Kelly Armstrong of North Dakota and Mike Gallagher of Wisconsin.\\n',\n",
       " \"CNN's Phil Mattingly, Michael Warren and Jamie Gangel contributed to this report.\"]"
      ]
     },
     "execution_count": 73,
     "metadata": {},
     "output_type": "execute_result"
    }
   ],
   "source": [
    "# 去除空白行\n",
    "with open('temp.txt','w') as f:\n",
    "    path='./data/sample.txt'\n",
    "    f.writelines(i for i in open(path) if len(i)>1)\n",
    "with open('temp.txt') as f:\n",
    "    lines=f.readlines()\n",
    "\n",
    "lines"
   ]
  },
  {
   "cell_type": "code",
   "execution_count": null,
   "metadata": {},
   "outputs": [],
   "source": []
  },
  {
   "cell_type": "code",
   "execution_count": null,
   "metadata": {},
   "outputs": [],
   "source": []
  },
  {
   "cell_type": "code",
   "execution_count": null,
   "metadata": {},
   "outputs": [],
   "source": []
  },
  {
   "cell_type": "code",
   "execution_count": null,
   "metadata": {},
   "outputs": [],
   "source": []
  },
  {
   "cell_type": "code",
   "execution_count": null,
   "metadata": {},
   "outputs": [],
   "source": []
  },
  {
   "cell_type": "code",
   "execution_count": null,
   "metadata": {},
   "outputs": [],
   "source": []
  },
  {
   "cell_type": "code",
   "execution_count": null,
   "metadata": {},
   "outputs": [],
   "source": []
  },
  {
   "cell_type": "code",
   "execution_count": null,
   "metadata": {},
   "outputs": [],
   "source": []
  },
  {
   "cell_type": "code",
   "execution_count": null,
   "metadata": {},
   "outputs": [],
   "source": []
  },
  {
   "cell_type": "code",
   "execution_count": null,
   "metadata": {},
   "outputs": [],
   "source": []
  },
  {
   "cell_type": "code",
   "execution_count": null,
   "metadata": {},
   "outputs": [],
   "source": []
  }
 ],
 "metadata": {
  "kernelspec": {
   "display_name": "Python 3",
   "language": "python",
   "name": "python3"
  },
  "language_info": {
   "codemirror_mode": {
    "name": "ipython",
    "version": 3
   },
   "file_extension": ".py",
   "mimetype": "text/x-python",
   "name": "python",
   "nbconvert_exporter": "python",
   "pygments_lexer": "ipython3",
   "version": "3.7.3"
  },
  "widgets": {
   "application/vnd.jupyter.widget-state+json": {
    "state": {},
    "version_major": 2,
    "version_minor": 0
   }
  }
 },
 "nbformat": 4,
 "nbformat_minor": 4
}
